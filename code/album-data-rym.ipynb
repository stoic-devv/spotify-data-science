{
 "cells": [
  {
   "cell_type": "code",
   "execution_count": 30,
   "metadata": {},
   "outputs": [],
   "source": [
    "import lib.rymscraper.rymscraper as rymscraper\n",
    "import lib.rymscraper.RymUrl as RymUrl\n",
    "import pandas as pd\n",
    "import time"
   ]
  },
  {
   "cell_type": "code",
   "execution_count": 31,
   "metadata": {},
   "outputs": [],
   "source": [
    "columns = [\n",
    "        \"Rank\",\n",
    "        \"Artist\",\n",
    "        \"Album\",\n",
    "        \"Date\",\n",
    "        \"Genres\",\n",
    "        \"RYM Rating\",\n",
    "        \"Ratings\",\n",
    "        \"Reviews\",\n",
    "    ]\n",
    "def get_chart(url,pages=1):\n",
    "    RymNetwork = rymscraper.RymNetwork()\n",
    "    list_rows = RymNetwork.get_chart_infos(url, max_page=pages)\n",
    "    return pd.DataFrame(list_rows, columns=columns)"
   ]
  },
  {
   "cell_type": "code",
   "execution_count": 37,
   "metadata": {},
   "outputs": [
    {
     "name": "stderr",
     "output_type": "stream",
     "text": [
      "IP banned from rym. Can't do any requests to the website. Exiting.\n",
      "Error scraping page https://rateyourmusic.com/charts/ : name 'exit' is not defined\n",
      "IP banned from rym. Can't do any requests to the website. Exiting.\n",
      "Error scraping page https://rateyourmusic.com/charts/top/album/1960 : name 'exit' is not defined\n"
     ]
    },
    {
     "ename": "KeyboardInterrupt",
     "evalue": "",
     "output_type": "error",
     "traceback": [
      "\u001b[0;31m---------------------------------------------------------------------------\u001b[0m",
      "\u001b[0;31mKeyboardInterrupt\u001b[0m                         Traceback (most recent call last)",
      "\u001b[1;32m/Users/adityakanthale/Documents/padhai/cs418/spotify-data-science/code/album-data-rym.ipynb Cell 3'\u001b[0m in \u001b[0;36m<cell line: 6>\u001b[0;34m()\u001b[0m\n\u001b[1;32m      <a href='vscode-notebook-cell:/Users/adityakanthale/Documents/padhai/cs418/spotify-data-science/code/album-data-rym.ipynb#ch0000002?line=5'>6</a>\u001b[0m \u001b[39mfor\u001b[39;00m i \u001b[39min\u001b[39;00m \u001b[39mrange\u001b[39m(\u001b[39m1960\u001b[39m,\u001b[39m2020\u001b[39m,\u001b[39m1\u001b[39m):\n\u001b[1;32m      <a href='vscode-notebook-cell:/Users/adityakanthale/Documents/padhai/cs418/spotify-data-science/code/album-data-rym.ipynb#ch0000002?line=6'>7</a>\u001b[0m     top_albums_df \u001b[39m=\u001b[39m pd\u001b[39m.\u001b[39mconcat([top_albums_df, get_chart(BASE_CHART_URI \u001b[39m+\u001b[39m \u001b[39mstr\u001b[39m(i))])\n\u001b[0;32m----> <a href='vscode-notebook-cell:/Users/adityakanthale/Documents/padhai/cs418/spotify-data-science/code/album-data-rym.ipynb#ch0000002?line=7'>8</a>\u001b[0m     time\u001b[39m.\u001b[39;49msleep(\u001b[39m120\u001b[39;49m)\n",
      "\u001b[0;31mKeyboardInterrupt\u001b[0m: "
     ]
    }
   ],
   "source": [
    "df1 = get_chart('https://rateyourmusic.com/charts/',2)\n",
    "BASE_CHART_URI = 'https://rateyourmusic.com/charts/top/album/'\n",
    "top_albums_df = pd.DataFrame()\n",
    "\n",
    "# get top albums from 1950-2020\n",
    "for i in range(1960,2020,1):\n",
    "    top_albums_df = pd.concat([top_albums_df, get_chart(BASE_CHART_URI + str(i))])\n",
    "    time.sleep(120)"
   ]
  }
 ],
 "metadata": {
  "interpreter": {
   "hash": "6c6fe532a4d7f75a0f79b28aa57aa3478f6a708044a395b4f970fb314cdbee16"
  },
  "kernelspec": {
   "display_name": "Python 3.8.9 ('env': venv)",
   "language": "python",
   "name": "python3"
  },
  "language_info": {
   "codemirror_mode": {
    "name": "ipython",
    "version": 3
   },
   "file_extension": ".py",
   "mimetype": "text/x-python",
   "name": "python",
   "nbconvert_exporter": "python",
   "pygments_lexer": "ipython3",
   "version": "3.8.9"
  },
  "orig_nbformat": 4
 },
 "nbformat": 4,
 "nbformat_minor": 2
}
