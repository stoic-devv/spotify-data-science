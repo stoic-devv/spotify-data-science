{
 "cells": [
  {
   "cell_type": "code",
   "execution_count": 1,
   "metadata": {},
   "outputs": [],
   "source": [
    "import lib.rymscraper.rymscraper as rymscraper\n",
    "import lib.rymscraper.RymUrl as RymUrl\n",
    "import pandas as pd\n",
    "import time"
   ]
  },
  {
   "cell_type": "code",
   "execution_count": 2,
   "metadata": {},
   "outputs": [],
   "source": [
    "columns = [\n",
    "        \"Rank\",\n",
    "        \"Artist\",\n",
    "        \"Album\",\n",
    "        \"Date\",\n",
    "        \"Genres\",\n",
    "        \"RYM Rating\",\n",
    "        \"Ratings\",\n",
    "        \"Reviews\",\n",
    "    ]\n",
    "def get_chart(url,pages=1):\n",
    "    RymNetwork = rymscraper.RymNetwork()\n",
    "    list_rows = RymNetwork.get_chart_infos(url)\n",
    "    return pd.DataFrame(list_rows, columns=columns)"
   ]
  },
  {
   "cell_type": "code",
   "execution_count": 10,
   "metadata": {},
   "outputs": [
    {
     "name": "stderr",
     "output_type": "stream",
     "text": [
      "Ratings : 'NoneType' object has no attribute 'text'\n",
      "Error scraping page https://rateyourmusic.com/charts/top/album/1998 : 'str' object has no attribute 'page'\n",
      "Error scraping page https://rateyourmusic.com/charts/top/album/1999 : 'str' object has no attribute 'page'\n",
      "Error scraping page https://rateyourmusic.com/charts/top/album/2000 : 'str' object has no attribute 'page'\n",
      "Ratings : 'NoneType' object has no attribute 'text'\n",
      "Error scraping page https://rateyourmusic.com/charts/top/album/2001 : 'str' object has no attribute 'page'\n",
      "Error scraping page https://rateyourmusic.com/charts/top/album/2002 : 'str' object has no attribute 'page'\n",
      "Ratings : 'NoneType' object has no attribute 'text'\n",
      "Error scraping page https://rateyourmusic.com/charts/top/album/2003 : 'str' object has no attribute 'page'\n",
      "Ratings : 'NoneType' object has no attribute 'text'\n",
      "Error scraping page https://rateyourmusic.com/charts/top/album/2004 : 'str' object has no attribute 'page'\n",
      "Ratings : 'NoneType' object has no attribute 'text'\n",
      "Error scraping page https://rateyourmusic.com/charts/top/album/2005 : 'str' object has no attribute 'page'\n",
      "Error scraping page https://rateyourmusic.com/charts/top/album/2006 : 'str' object has no attribute 'page'\n",
      "Ratings : 'NoneType' object has no attribute 'text'\n",
      "Error scraping page https://rateyourmusic.com/charts/top/album/2007 : 'str' object has no attribute 'page'\n",
      "Ratings : 'NoneType' object has no attribute 'text'\n",
      "Error scraping page https://rateyourmusic.com/charts/top/album/2008 : 'str' object has no attribute 'page'\n",
      "Ratings : 'NoneType' object has no attribute 'text'\n",
      "Ratings : 'NoneType' object has no attribute 'text'\n",
      "Error scraping page https://rateyourmusic.com/charts/top/album/2009 : 'str' object has no attribute 'page'\n",
      "Ratings : 'NoneType' object has no attribute 'text'\n",
      "Error scraping page https://rateyourmusic.com/charts/top/album/2010 : 'str' object has no attribute 'page'\n",
      "Error scraping page https://rateyourmusic.com/charts/top/album/2011 : 'str' object has no attribute 'page'\n",
      "Ratings : 'NoneType' object has no attribute 'text'\n",
      "Ratings : 'NoneType' object has no attribute 'text'\n",
      "Error scraping page https://rateyourmusic.com/charts/top/album/2012 : 'str' object has no attribute 'page'\n",
      "Ratings : 'NoneType' object has no attribute 'text'\n",
      "Ratings : 'NoneType' object has no attribute 'text'\n",
      "Error scraping page https://rateyourmusic.com/charts/top/album/2013 : 'str' object has no attribute 'page'\n",
      "Ratings : 'NoneType' object has no attribute 'text'\n",
      "Ratings : 'NoneType' object has no attribute 'text'\n",
      "Error scraping page https://rateyourmusic.com/charts/top/album/2014 : 'str' object has no attribute 'page'\n",
      "Ratings : 'NoneType' object has no attribute 'text'\n",
      "Error scraping page https://rateyourmusic.com/charts/top/album/2015 : 'str' object has no attribute 'page'\n",
      "Ratings : 'NoneType' object has no attribute 'text'\n",
      "Ratings : 'NoneType' object has no attribute 'text'\n",
      "Error scraping page https://rateyourmusic.com/charts/top/album/2016 : 'str' object has no attribute 'page'\n",
      "Ratings : 'NoneType' object has no attribute 'text'\n",
      "Error scraping page https://rateyourmusic.com/charts/top/album/2017 : 'str' object has no attribute 'page'\n",
      "Ratings : 'NoneType' object has no attribute 'text'\n",
      "Error scraping page https://rateyourmusic.com/charts/top/album/2018 : 'str' object has no attribute 'page'\n",
      "Ratings : 'NoneType' object has no attribute 'text'\n",
      "Error scraping page https://rateyourmusic.com/charts/top/album/2019 : 'str' object has no attribute 'page'\n",
      "Error scraping page https://rateyourmusic.com/charts/top/album/2020 : 'str' object has no attribute 'page'\n",
      "Error scraping page https://rateyourmusic.com/charts/top/album/2021 : 'str' object has no attribute 'page'\n"
     ]
    }
   ],
   "source": [
    "BASE_CHART_URI = 'https://rateyourmusic.com/charts/top/album/'\n",
    "top_albums_df = pd.DataFrame()\n",
    "df_list = []\n",
    "\n",
    "# get top albums from 1950-2020\n",
    "for i in range(1998,2022,1):\n",
    "    try:\n",
    "        df_list.append(get_chart(BASE_CHART_URI + str(i)))\n",
    "        time.sleep(8)\n",
    "    except:\n",
    "        break"
   ]
  },
  {
   "cell_type": "code",
   "execution_count": 11,
   "metadata": {},
   "outputs": [],
   "source": [
    "top_albums = pd.concat(df_list)"
   ]
  },
  {
   "cell_type": "code",
   "execution_count": 12,
   "metadata": {},
   "outputs": [],
   "source": [
    "top_albums.to_csv('../data/rym-1998-2021.csv', sep='~')"
   ]
  },
  {
   "cell_type": "code",
   "execution_count": 4,
   "metadata": {},
   "outputs": [],
   "source": [
    "df1 = pd.read_csv('../data/rym-1950-1971.csv', sep=',')\n",
    "df2 = pd.read_csv('../data/rym-1972-1979.csv', sep=',')\n",
    "df3 = pd.read_csv('../data/rym-1980-1997.csv', sep='~')\n",
    "df4 = pd.read_csv('../data/rym-1998-2021.csv', sep='~')\n",
    "dfs = [df1, df2, df3, df4]"
   ]
  },
  {
   "cell_type": "code",
   "execution_count": 5,
   "metadata": {},
   "outputs": [],
   "source": [
    "pd.concat(dfs).to_csv('../data/rym-1950-2021.csv', sep='~')"
   ]
  }
 ],
 "metadata": {
  "interpreter": {
   "hash": "6c6fe532a4d7f75a0f79b28aa57aa3478f6a708044a395b4f970fb314cdbee16"
  },
  "kernelspec": {
   "display_name": "Python 3.8.9 ('env': venv)",
   "language": "python",
   "name": "python3"
  },
  "language_info": {
   "codemirror_mode": {
    "name": "ipython",
    "version": 3
   },
   "file_extension": ".py",
   "mimetype": "text/x-python",
   "name": "python",
   "nbconvert_exporter": "python",
   "pygments_lexer": "ipython3",
   "version": "3.8.9"
  },
  "orig_nbformat": 4
 },
 "nbformat": 4,
 "nbformat_minor": 2
}
