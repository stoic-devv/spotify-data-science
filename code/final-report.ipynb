{
 "cells": [
  {
   "cell_type": "markdown",
   "metadata": {},
   "source": [
    "# Exploring and Classifying Genres in Music\n",
    "\n",
    "Aditya Kanthale, Amanuel Odicho, Vivek Patel <br/>\n",
    "\n",
    "The code for our project can be found here: [spotify-data-science](https://github.com/stoic-devv/spotify-data-science)\n",
    "Dataset can be downloaded from here directly: [data](https://github.com/stoic-devv/spotify-data-science/blob/main/data/final-data.csv)\n",
    "\n",
    "Insert intro from the report"
   ]
  },
  {
   "cell_type": "code",
   "execution_count": 1,
   "metadata": {},
   "outputs": [],
   "source": [
    "import numpy as np\n",
    "import pandas as pd\n",
    "import matplotlib.pyplot as plt\n",
    "\n",
    "import seaborn as sns \n",
    "from collections import defaultdict\n",
    "import warnings\n",
    "warnings.simplefilter(action='ignore', category=FutureWarning)"
   ]
  },
  {
   "cell_type": "markdown",
   "metadata": {},
   "source": [
    "## Data Extraction\n",
    "\n",
    "For brevity, we have not included our code for data extraction in this notebook.\n",
    "Here are some notebooks from our repository:\n",
    "1. For extracting data from RateYourMusic: [album-data-rym.ipynb](https://github.com/stoic-devv/spotify-data-science/blob/main/code/album-data-rym.ipynb)\n",
    "2. Scraper code and library used: [rym_charts.py](https://github.com/stoic-devv/spotify-data-science/blob/main/code/rym_charts.py), [rymscraper](https://github.com/stoic-devv/spotify-data-science/blob/main/code/lib/rymscraper/)\n",
    "3. Extracting song data from Spotify: [song-data-extraction.ipynb](https://github.com/stoic-devv/spotify-data-science/blob/main/code/song-data-extraction.ipynb)\n",
    "4. Merging RYM and Spotify data: [merge-data.ipynb](https://github.com/stoic-devv/spotify-data-science/blob/main/code/merge-data.ipynb)\n"
   ]
  },
  {
   "cell_type": "markdown",
   "metadata": {},
   "source": [
    "## Data Cleaning"
   ]
  },
  {
   "cell_type": "code",
   "execution_count": 2,
   "metadata": {},
   "outputs": [],
   "source": [
    "# Aditya"
   ]
  },
  {
   "cell_type": "markdown",
   "metadata": {},
   "source": [
    "## EDA 1"
   ]
  },
  {
   "cell_type": "code",
   "execution_count": 3,
   "metadata": {},
   "outputs": [],
   "source": [
    "# Aditya\n",
    "# Identifying top genres, mapping etc"
   ]
  },
  {
   "cell_type": "markdown",
   "metadata": {},
   "source": [
    "## EDA 2"
   ]
  },
  {
   "cell_type": "code",
   "execution_count": 4,
   "metadata": {},
   "outputs": [],
   "source": [
    "# Amanuel\n",
    "# bar plots, corr-mat, etc"
   ]
  },
  {
   "cell_type": "markdown",
   "metadata": {},
   "source": [
    "## Model & Analysis"
   ]
  },
  {
   "cell_type": "code",
   "execution_count": 5,
   "metadata": {},
   "outputs": [],
   "source": [
    "# Vivek"
   ]
  },
  {
   "cell_type": "markdown",
   "metadata": {},
   "source": [
    "## Conclusions and Future work"
   ]
  },
  {
   "cell_type": "code",
   "execution_count": 6,
   "metadata": {},
   "outputs": [],
   "source": [
    "# Amanuel can start\n",
    "# We can pitch in later"
   ]
  },
  {
   "cell_type": "code",
   "execution_count": null,
   "metadata": {},
   "outputs": [],
   "source": []
  }
 ],
 "metadata": {
  "interpreter": {
   "hash": "6c6fe532a4d7f75a0f79b28aa57aa3478f6a708044a395b4f970fb314cdbee16"
  },
  "kernelspec": {
   "display_name": "Python 3.8.9 ('env': venv)",
   "language": "python",
   "name": "python3"
  },
  "language_info": {
   "codemirror_mode": {
    "name": "ipython",
    "version": 3
   },
   "file_extension": ".py",
   "mimetype": "text/x-python",
   "name": "python",
   "nbconvert_exporter": "python",
   "pygments_lexer": "ipython3",
   "version": "3.8.9"
  },
  "orig_nbformat": 4
 },
 "nbformat": 4,
 "nbformat_minor": 2
}
