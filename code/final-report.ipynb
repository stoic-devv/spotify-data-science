{
 "cells": [
  {
   "cell_type": "markdown",
   "metadata": {},
   "source": [
    "# Exploring and Classifying Genres in Music\n",
    "\n",
    "Aditya Kanthale, Amanuel Odicho, Vivek Patel <br/>\n",
    "\n",
    "The code for our project can be found here: [spotify-data-science](https://github.com/stoic-devv/spotify-data-science)\n",
    "Dataset can be downloaded from here directly: [data](https://github.com/stoic-devv/spotify-data-science/blob/main/data/final-data.csv)\n",
    "\n",
    "Insert intro from the report"
   ]
  },
  {
   "cell_type": "code",
   "execution_count": 1,
   "metadata": {},
   "outputs": [],
   "source": [
    "import numpy as np\n",
    "import pandas as pd\n",
    "import matplotlib.pyplot as plt\n",
    "\n",
    "import seaborn as sns \n",
    "from collections import defaultdict\n",
    "import warnings\n",
    "warnings.simplefilter(action='ignore', category=FutureWarning)"
   ]
  },
  {
   "cell_type": "markdown",
   "metadata": {},
   "source": [
    "## Data Extraction\n",
    "\n",
    "For brevity, we have not included our code for data extraction in this notebook.\n",
    "Here are some notebooks from our repository:\n",
    "1. For extracting data from RateYourMusic: [album-data-rym.ipynb](https://github.com/stoic-devv/spotify-data-science/blob/main/code/album-data-rym.ipynb)\n",
    "2. Scraper code and library used: [rym_charts.py](https://github.com/stoic-devv/spotify-data-science/blob/main/code/rym_charts.py), [rymscraper](https://github.com/stoic-devv/spotify-data-science/blob/main/code/lib/rymscraper/)\n",
    "3. Extracting song data from Spotify: [song-data-extraction.ipynb](https://github.com/stoic-devv/spotify-data-science/blob/main/code/song-data-extraction.ipynb)\n",
    "4. Merging RYM and Spotify data: [merge-data.ipynb](https://github.com/stoic-devv/spotify-data-science/blob/main/code/merge-data.ipynb)\n"
   ]
  },
  {
   "cell_type": "markdown",
   "metadata": {},
   "source": [
    "## Data Cleaning"
   ]
  },
  {
   "cell_type": "code",
   "execution_count": 9,
   "metadata": {},
   "outputs": [
    {
     "data": {
      "text/html": [
       "<div>\n",
       "<style scoped>\n",
       "    .dataframe tbody tr th:only-of-type {\n",
       "        vertical-align: middle;\n",
       "    }\n",
       "\n",
       "    .dataframe tbody tr th {\n",
       "        vertical-align: top;\n",
       "    }\n",
       "\n",
       "    .dataframe thead th {\n",
       "        text-align: right;\n",
       "    }\n",
       "</style>\n",
       "<table border=\"1\" class=\"dataframe\">\n",
       "  <thead>\n",
       "    <tr style=\"text-align: right;\">\n",
       "      <th></th>\n",
       "      <th>Unnamed: 0.2</th>\n",
       "      <th>Unnamed: 0.1</th>\n",
       "      <th>Unnamed: 0</th>\n",
       "      <th>danceability</th>\n",
       "      <th>energy</th>\n",
       "      <th>key</th>\n",
       "      <th>loudness</th>\n",
       "      <th>mode</th>\n",
       "      <th>speechiness</th>\n",
       "      <th>acousticness</th>\n",
       "      <th>...</th>\n",
       "      <th>album</th>\n",
       "      <th>date</th>\n",
       "      <th>rym rating</th>\n",
       "      <th>ratings</th>\n",
       "      <th>reviews</th>\n",
       "      <th>name</th>\n",
       "      <th>popularity</th>\n",
       "      <th>rym_genres</th>\n",
       "      <th>sp_genres</th>\n",
       "      <th>genre</th>\n",
       "    </tr>\n",
       "  </thead>\n",
       "  <tbody>\n",
       "    <tr>\n",
       "      <th>0</th>\n",
       "      <td>0</td>\n",
       "      <td>0</td>\n",
       "      <td>6970</td>\n",
       "      <td>0.526</td>\n",
       "      <td>0.235</td>\n",
       "      <td>7</td>\n",
       "      <td>-14.074</td>\n",
       "      <td>0</td>\n",
       "      <td>0.0991</td>\n",
       "      <td>0.907</td>\n",
       "      <td>...</td>\n",
       "      <td>\"Al final de este viaje...\"</td>\n",
       "      <td>1978-04-27</td>\n",
       "      <td>3.92</td>\n",
       "      <td>1673.0</td>\n",
       "      <td>33.0</td>\n",
       "      <td>Ojalá</td>\n",
       "      <td>68</td>\n",
       "      <td>Nueva trova</td>\n",
       "      <td>['cantautor', 'latin alternative', 'nueva canc...</td>\n",
       "      <td>NF</td>\n",
       "    </tr>\n",
       "    <tr>\n",
       "      <th>1</th>\n",
       "      <td>1</td>\n",
       "      <td>1</td>\n",
       "      <td>6974</td>\n",
       "      <td>0.571</td>\n",
       "      <td>0.134</td>\n",
       "      <td>0</td>\n",
       "      <td>-14.650</td>\n",
       "      <td>1</td>\n",
       "      <td>0.0704</td>\n",
       "      <td>0.895</td>\n",
       "      <td>...</td>\n",
       "      <td>\"Al final de este viaje...\"</td>\n",
       "      <td>1978-04-27</td>\n",
       "      <td>3.92</td>\n",
       "      <td>1673.0</td>\n",
       "      <td>33.0</td>\n",
       "      <td>Óleo de Mujer Con Sombrero</td>\n",
       "      <td>62</td>\n",
       "      <td>Nueva trova</td>\n",
       "      <td>['cantautor', 'latin alternative', 'nueva canc...</td>\n",
       "      <td>NF</td>\n",
       "    </tr>\n",
       "    <tr>\n",
       "      <th>2</th>\n",
       "      <td>2</td>\n",
       "      <td>2</td>\n",
       "      <td>6968</td>\n",
       "      <td>0.562</td>\n",
       "      <td>0.213</td>\n",
       "      <td>8</td>\n",
       "      <td>-12.273</td>\n",
       "      <td>1</td>\n",
       "      <td>0.0841</td>\n",
       "      <td>0.876</td>\n",
       "      <td>...</td>\n",
       "      <td>\"Al final de este viaje...\"</td>\n",
       "      <td>1978-04-27</td>\n",
       "      <td>3.92</td>\n",
       "      <td>1673.0</td>\n",
       "      <td>33.0</td>\n",
       "      <td>Canción Del Elegido</td>\n",
       "      <td>55</td>\n",
       "      <td>Nueva trova</td>\n",
       "      <td>['cantautor', 'latin alternative', 'nueva canc...</td>\n",
       "      <td>NF</td>\n",
       "    </tr>\n",
       "    <tr>\n",
       "      <th>3</th>\n",
       "      <td>3</td>\n",
       "      <td>3</td>\n",
       "      <td>6977</td>\n",
       "      <td>0.504</td>\n",
       "      <td>0.261</td>\n",
       "      <td>9</td>\n",
       "      <td>-12.577</td>\n",
       "      <td>1</td>\n",
       "      <td>0.0620</td>\n",
       "      <td>0.794</td>\n",
       "      <td>...</td>\n",
       "      <td>\"Al final de este viaje...\"</td>\n",
       "      <td>1978-04-27</td>\n",
       "      <td>3.92</td>\n",
       "      <td>1673.0</td>\n",
       "      <td>33.0</td>\n",
       "      <td>Al Final de Este Viaje en la Vida</td>\n",
       "      <td>52</td>\n",
       "      <td>Nueva trova</td>\n",
       "      <td>['cantautor', 'latin alternative', 'nueva canc...</td>\n",
       "      <td>NF</td>\n",
       "    </tr>\n",
       "    <tr>\n",
       "      <th>4</th>\n",
       "      <td>4</td>\n",
       "      <td>4</td>\n",
       "      <td>6969</td>\n",
       "      <td>0.682</td>\n",
       "      <td>0.236</td>\n",
       "      <td>6</td>\n",
       "      <td>-11.647</td>\n",
       "      <td>0</td>\n",
       "      <td>0.2490</td>\n",
       "      <td>0.844</td>\n",
       "      <td>...</td>\n",
       "      <td>\"Al final de este viaje...\"</td>\n",
       "      <td>1978-04-27</td>\n",
       "      <td>3.92</td>\n",
       "      <td>1673.0</td>\n",
       "      <td>33.0</td>\n",
       "      <td>La Familia, la Propiedad Privada y el Amor</td>\n",
       "      <td>50</td>\n",
       "      <td>Nueva trova</td>\n",
       "      <td>['cantautor', 'latin alternative', 'nueva canc...</td>\n",
       "      <td>NF</td>\n",
       "    </tr>\n",
       "  </tbody>\n",
       "</table>\n",
       "<p>5 rows × 31 columns</p>\n",
       "</div>"
      ],
      "text/plain": [
       "   Unnamed: 0.2  Unnamed: 0.1  Unnamed: 0  danceability  energy  key  \\\n",
       "0             0             0        6970         0.526   0.235    7   \n",
       "1             1             1        6974         0.571   0.134    0   \n",
       "2             2             2        6968         0.562   0.213    8   \n",
       "3             3             3        6977         0.504   0.261    9   \n",
       "4             4             4        6969         0.682   0.236    6   \n",
       "\n",
       "   loudness  mode  speechiness  acousticness  ...  \\\n",
       "0   -14.074     0       0.0991         0.907  ...   \n",
       "1   -14.650     1       0.0704         0.895  ...   \n",
       "2   -12.273     1       0.0841         0.876  ...   \n",
       "3   -12.577     1       0.0620         0.794  ...   \n",
       "4   -11.647     0       0.2490         0.844  ...   \n",
       "\n",
       "                         album        date  rym rating  ratings reviews  \\\n",
       "0  \"Al final de este viaje...\"  1978-04-27        3.92   1673.0    33.0   \n",
       "1  \"Al final de este viaje...\"  1978-04-27        3.92   1673.0    33.0   \n",
       "2  \"Al final de este viaje...\"  1978-04-27        3.92   1673.0    33.0   \n",
       "3  \"Al final de este viaje...\"  1978-04-27        3.92   1673.0    33.0   \n",
       "4  \"Al final de este viaje...\"  1978-04-27        3.92   1673.0    33.0   \n",
       "\n",
       "                                         name popularity   rym_genres  \\\n",
       "0                                       Ojalá         68  Nueva trova   \n",
       "1                  Óleo de Mujer Con Sombrero         62  Nueva trova   \n",
       "2                         Canción Del Elegido         55  Nueva trova   \n",
       "3           Al Final de Este Viaje en la Vida         52  Nueva trova   \n",
       "4  La Familia, la Propiedad Privada y el Amor         50  Nueva trova   \n",
       "\n",
       "                                           sp_genres  genre  \n",
       "0  ['cantautor', 'latin alternative', 'nueva canc...     NF  \n",
       "1  ['cantautor', 'latin alternative', 'nueva canc...     NF  \n",
       "2  ['cantautor', 'latin alternative', 'nueva canc...     NF  \n",
       "3  ['cantautor', 'latin alternative', 'nueva canc...     NF  \n",
       "4  ['cantautor', 'latin alternative', 'nueva canc...     NF  \n",
       "\n",
       "[5 rows x 31 columns]"
      ]
     },
     "execution_count": 9,
     "metadata": {},
     "output_type": "execute_result"
    }
   ],
   "source": [
    "df = pd.read_csv('../data/final-data.csv', sep='~')\n",
    "df.head()"
   ]
  },
  {
   "cell_type": "code",
   "execution_count": 10,
   "metadata": {},
   "outputs": [],
   "source": [
    "drop_cols = ['Unnamed: 0.2', 'Unnamed: 0.1', 'Unnamed: 0']\n",
    "audio_features = ['danceability', 'energy', 'key', 'loudness', 'mode', 'speechiness', 'acousticness', 'instrumentalness', 'liveness', 'valence', 'tempo','type']\n",
    "meta_data_features = ['id', 'uri', 'track_href', 'analysis_url', 'duration_ms', 'time_signature', 'name', 'album', 'date']\n",
    "user_rating_features = ['rym rating', 'ratings', 'reviews']\n",
    "labels = ['popularity', 'rym_genres', 'sp_genres'] # depending on problem statement"
   ]
  },
  {
   "cell_type": "code",
   "execution_count": 11,
   "metadata": {},
   "outputs": [],
   "source": [
    "df = df.drop(drop_cols, axis=1)"
   ]
  },
  {
   "cell_type": "code",
   "execution_count": 12,
   "metadata": {},
   "outputs": [
    {
     "data": {
      "text/plain": [
       "0       ['cantautor', 'latin alternative', 'nueva canc...\n",
       "1       ['cantautor', 'latin alternative', 'nueva canc...\n",
       "2       ['cantautor', 'latin alternative', 'nueva canc...\n",
       "3       ['cantautor', 'latin alternative', 'nueva canc...\n",
       "4       ['cantautor', 'latin alternative', 'nueva canc...\n",
       "                              ...                        \n",
       "7247    ['classic j-rock', 'j-rock', 'japanese dream p...\n",
       "7248    ['classic j-rock', 'j-rock', 'japanese dream p...\n",
       "7249    ['classic j-rock', 'j-rock', 'japanese dream p...\n",
       "7250    ['classic j-rock', 'j-rock', 'japanese dream p...\n",
       "7251                                                 ['']\n",
       "Name: sp_genres, Length: 7252, dtype: object"
      ]
     },
     "execution_count": 12,
     "metadata": {},
     "output_type": "execute_result"
    }
   ],
   "source": [
    "df['sp_genres']"
   ]
  },
  {
   "cell_type": "code",
   "execution_count": 13,
   "metadata": {},
   "outputs": [],
   "source": [
    "# remove encoding \n",
    "# eg: '['classic j-rock', 'j-rock']' -> ['classic j-rock', 'j-rock'] (str -> List[str])\n",
    "def genre_to_list(s):\n",
    "    return list(map(lambda x: x.strip(' ').strip('\\''), s.strip('[').strip(']').split(',')))\n",
    "from collections import defaultdict\n",
    "df['sp_genres'] = df['sp_genres'].apply(genre_to_list)"
   ]
  },
  {
   "cell_type": "code",
   "execution_count": null,
   "metadata": {},
   "outputs": [],
   "source": []
  },
  {
   "cell_type": "markdown",
   "metadata": {},
   "source": [
    "## EDA 1"
   ]
  },
  {
   "cell_type": "code",
   "execution_count": null,
   "metadata": {},
   "outputs": [],
   "source": []
  },
  {
   "cell_type": "code",
   "execution_count": 3,
   "metadata": {},
   "outputs": [],
   "source": [
    "# Aditya\n",
    "# Identifying top genres, mapping etc"
   ]
  },
  {
   "cell_type": "markdown",
   "metadata": {},
   "source": [
    "## EDA 2"
   ]
  },
  {
   "cell_type": "code",
   "execution_count": 4,
   "metadata": {},
   "outputs": [],
   "source": [
    "# Amanuel\n",
    "# bar plots, corr-mat, etc"
   ]
  },
  {
   "cell_type": "markdown",
   "metadata": {},
   "source": [
    "## Model & Analysis"
   ]
  },
  {
   "cell_type": "code",
   "execution_count": 5,
   "metadata": {},
   "outputs": [],
   "source": [
    "# Vivek"
   ]
  },
  {
   "cell_type": "markdown",
   "metadata": {},
   "source": [
    "## Conclusions and Future work"
   ]
  },
  {
   "cell_type": "code",
   "execution_count": 6,
   "metadata": {},
   "outputs": [],
   "source": [
    "# Amanuel can start\n",
    "# We can pitch in later"
   ]
  },
  {
   "cell_type": "code",
   "execution_count": null,
   "metadata": {},
   "outputs": [],
   "source": []
  }
 ],
 "metadata": {
  "interpreter": {
   "hash": "6c6fe532a4d7f75a0f79b28aa57aa3478f6a708044a395b4f970fb314cdbee16"
  },
  "kernelspec": {
   "display_name": "Python 3.8.9 ('env': venv)",
   "language": "python",
   "name": "python3"
  },
  "language_info": {
   "codemirror_mode": {
    "name": "ipython",
    "version": 3
   },
   "file_extension": ".py",
   "mimetype": "text/x-python",
   "name": "python",
   "nbconvert_exporter": "python",
   "pygments_lexer": "ipython3",
   "version": "3.8.9"
  },
  "orig_nbformat": 4
 },
 "nbformat": 4,
 "nbformat_minor": 2
}
