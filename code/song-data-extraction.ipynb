{
 "cells": [
  {
   "cell_type": "code",
   "execution_count": 4,
   "metadata": {},
   "outputs": [],
   "source": [
    "import pandas as pd\n",
    "import matplotlib.pyplot as plt\n",
    "import spotipy\n",
    "from spotipy.oauth2 import SpotifyClientCredentials"
   ]
  },
  {
   "cell_type": "code",
   "execution_count": 5,
   "metadata": {},
   "outputs": [],
   "source": [
    "## Connect to spotify\n",
    "CLIENT_ID = 'f4b0975d0a7e419fb4ef187ddd061914'\n",
    "CLIENT_SECRET = '54314e98d08d4581be9ed226e49dc251'\n",
    "REDIRECT_URI = 'http://localhost/'\n",
    "USERNAME = 'sgtpepurr'\n",
    "SCOPES = [\n",
    "    'user-modify-playback-state',\n",
    "    'user-read-playback-state',\n",
    "    'user-read-currently-playing',\n",
    "    'user-follow-modify',\n",
    "    'user-follow-read',\n",
    "    'user-read-recently-played',\n",
    "    'user-read-playback-position',\n",
    "    'user-top-read',\n",
    "    'playlist-read-collaborative',\n",
    "    'playlist-modify-public',\n",
    "    'playlist-read-private',\n",
    "    'playlist-modify-private',\n",
    "    'app-remote-control',\n",
    "    'streaming',\n",
    "    'user-library-modify',\n",
    "    'user-library-read'\n",
    "]\n",
    "token = spotipy.util.prompt_for_user_token('sgtpepurr',SCOPES,client_id=CLIENT_ID,client_secret=CLIENT_SECRET,redirect_uri=REDIRECT_URI)\n",
    "sp = spotipy.Spotify(auth=token)"
   ]
  }
 ],
 "metadata": {
  "interpreter": {
   "hash": "6c6fe532a4d7f75a0f79b28aa57aa3478f6a708044a395b4f970fb314cdbee16"
  },
  "kernelspec": {
   "display_name": "Python 3.8.9 ('env': venv)",
   "language": "python",
   "name": "python3"
  },
  "language_info": {
   "codemirror_mode": {
    "name": "ipython",
    "version": 3
   },
   "file_extension": ".py",
   "mimetype": "text/x-python",
   "name": "python",
   "nbconvert_exporter": "python",
   "pygments_lexer": "ipython3",
   "version": "3.8.9"
  },
  "orig_nbformat": 4
 },
 "nbformat": 4,
 "nbformat_minor": 2
}
